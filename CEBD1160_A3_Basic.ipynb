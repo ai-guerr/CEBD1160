{
 "cells": [
  {
   "cell_type": "code",
   "execution_count": 70,
   "metadata": {},
   "outputs": [],
   "source": [
    "def Basic_Q1(): \n",
    "    print(\"BASIC QUESTION 1:\")\n",
    "    list1=[1,2,2,3,6,7,8,8,'Babak','babak']\n",
    "    list2=[]\n",
    "    print(\"Original List:\",'\\t\\t', list1)\n",
    "    count = 0\n",
    "    for i in list1:\n",
    "        if i in list1[(count+1):((len(list1)))]:\n",
    "            count=count+1\n",
    "        else: \n",
    "            list2.append(i)\n",
    "            count=count+1\n",
    "    print(\"Non-duplicate List:\", '\\t', list2)\n",
    "\n"
   ]
  },
  {
   "cell_type": "code",
   "execution_count": 71,
   "metadata": {
    "scrolled": true
   },
   "outputs": [
    {
     "name": "stdout",
     "output_type": "stream",
     "text": [
      "BASIC QUESTION 1:\n",
      "Original List: \t\t [1, 2, 2, 3, 6, 7, 8, 8, 'Babak', 'babak']\n",
      "Non-duplicate List: \t [1, 2, 3, 6, 7, 8, 'Babak', 'babak']\n"
     ]
    }
   ],
   "source": [
    "Basic_Q1()"
   ]
  },
  {
   "cell_type": "code",
   "execution_count": 72,
   "metadata": {},
   "outputs": [],
   "source": [
    "def Basic_Q2(): \n",
    "    print(\"BASIC QUESTION 2:\")\n",
    "    list=[1,2,2,3,6,7,8,8]\n",
    "    x=0\n",
    "    def IsIncluded(list, x):\n",
    "        return x in list\n",
    "    print(\"Number is included:\", IsIncluded(list,x))\n",
    "        \n",
    "        "
   ]
  },
  {
   "cell_type": "code",
   "execution_count": 69,
   "metadata": {},
   "outputs": [
    {
     "name": "stdout",
     "output_type": "stream",
     "text": [
      "BASIC QUESTION 2:\n",
      "Number is included: False\n"
     ]
    }
   ],
   "source": [
    "Basic_Q2()"
   ]
  },
  {
   "cell_type": "code",
   "execution_count": 87,
   "metadata": {},
   "outputs": [],
   "source": [
    "def Basic_Q3(): \n",
    "    print(\"BASIC QUESTION 3:\")\n",
    "    a=[1,4,9,16,25,36,49,64,81,100]\n",
    "    b=[]\n",
    "    for i in a:\n",
    "        if (i % 2) == 0:\n",
    "            b.append(i)\n",
    "    print(b)\n",
    "    \n",
    "        "
   ]
  },
  {
   "cell_type": "code",
   "execution_count": 88,
   "metadata": {},
   "outputs": [
    {
     "name": "stdout",
     "output_type": "stream",
     "text": [
      "BASIC QUESTION 3:\n",
      "[4, 16, 36, 64, 100]\n"
     ]
    }
   ],
   "source": [
    "Basic_Q3()"
   ]
  },
  {
   "cell_type": "code",
   "execution_count": null,
   "metadata": {},
   "outputs": [],
   "source": []
  }
 ],
 "metadata": {
  "kernelspec": {
   "display_name": "Python 3",
   "language": "python",
   "name": "python3"
  },
  "language_info": {
   "codemirror_mode": {
    "name": "ipython",
    "version": 3
   },
   "file_extension": ".py",
   "mimetype": "text/x-python",
   "name": "python",
   "nbconvert_exporter": "python",
   "pygments_lexer": "ipython3",
   "version": "3.7.3"
  }
 },
 "nbformat": 4,
 "nbformat_minor": 2
}
