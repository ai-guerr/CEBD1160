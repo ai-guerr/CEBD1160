{
 "cells": [
  {
   "cell_type": "code",
   "execution_count": 55,
   "metadata": {},
   "outputs": [],
   "source": [
    "def printHeader(x):\n",
    "    print(\"**************************************************************************************************************\")\n",
    "    print(x)\n",
    "    print(\"**************************************************************************************************************\")\n",
    "    print('\\n')"
   ]
  },
  {
   "cell_type": "code",
   "execution_count": 85,
   "metadata": {},
   "outputs": [
    {
     "name": "stdout",
     "output_type": "stream",
     "text": [
      "**************************************************************************************************************\n",
      "ADVANCED QUESTION 1\n",
      "**************************************************************************************************************\n",
      "\n",
      "\n",
      "Input string:\n",
      "--> Babak Khosravifar\n",
      "\n",
      "Output:\n",
      "Sorted alphabetically:\n",
      "{'a': 4, 'b': 2, 'f': 1, 'h': 1, 'i': 1, 'k': 2, 'o': 1, 'r': 2, 's': 1, 'v': 1}\n",
      "\n",
      "\n",
      "Sorted by repetition of characters:\n",
      "{'a': 4, 'b': 2, 'k': 2, 'r': 2, 'h': 1, 'o': 1, 's': 1, 'v': 1, 'i': 1, 'f': 1}\n"
     ]
    }
   ],
   "source": [
    "def Advanced_Q1():\n",
    "    printHeader(\"ADVANCED QUESTION 1\")\n",
    "    import collections\n",
    "    import pprint\n",
    "    import operator \n",
    "\n",
    "\n",
    "    inputString = 'Babak Khosravifar'\n",
    "    print(\"Input string:\")\n",
    "    print('-->',inputString)\n",
    "\n",
    "    myString = inputString.lower() #Remove case sensitivity\n",
    "    dict1={}\n",
    "\n",
    "    for x in myString: \n",
    "        keys = dict1.keys()\n",
    "        if x in keys:\n",
    "            dict1[x]=dict1[x]+1\n",
    "        else:\n",
    "            dict1[x]=1\n",
    "        \n",
    "    if ' ' in keys:\n",
    "       del(dict1[' ']) #Test for the space character and remove if present\n",
    "\n",
    "    c = collections.Counter(dict1).most_common()\n",
    "\n",
    "    dict2 = sorted(dict1.items(), key=operator.itemgetter(1), reverse=True)\n",
    "\n",
    "    print(\"\\nOutput:\")\n",
    "    print(\"Sorted alphabetically:\")       \n",
    "    pprint.pprint(dict1)  #Use pprint functionality to sort the elements of the dictionary alphabetically\n",
    "    print('\\n')\n",
    "    print(\"Sorted by repetition of characters:\")\n",
    "    print(dict(dict2)) \n",
    "\n",
    "Advanced_Q1()\n"
   ]
  },
  {
   "cell_type": "code",
   "execution_count": 86,
   "metadata": {},
   "outputs": [
    {
     "name": "stdout",
     "output_type": "stream",
     "text": [
      "**************************************************************************************************************\n",
      "ADVANCED QUESTION 2\n",
      "**************************************************************************************************************\n",
      "\n",
      "\n",
      "Test Sentence: \n",
      "--> This is a test test sentence\n",
      "Occurence of each word in the sentence:\n",
      "--> [('This', 1), ('is', 1), ('a', 1), ('test', 2), ('sentence', 1)]\n"
     ]
    }
   ],
   "source": [
    "def Advanced_Q2():\n",
    "    printHeader(\"ADVANCED QUESTION 2\")\n",
    "    sentence = \"This is a test test sentence\"\n",
    "    print(\"Test Sentence:\",'\\n-->',sentence)\n",
    "    list1 = sentence.split()\n",
    "    list2=[]    \n",
    "    for i in list1:                 #Create list of terms and counts\n",
    "        x=i,list1.count(i)\n",
    "        list2.append(x)\n",
    "    list3=list(dict.fromkeys(list2)) #Remove duplicates new list\n",
    "    print(\"Occurence of each word in the sentence:\")\n",
    "    print('-->', list3)\n",
    "\n",
    "Advanced_Q2()\n",
    "    "
   ]
  },
  {
   "cell_type": "code",
   "execution_count": 87,
   "metadata": {},
   "outputs": [
    {
     "name": "stdout",
     "output_type": "stream",
     "text": [
      "**************************************************************************************************************\n",
      "ADVANCED QUESTION 3\n",
      "**************************************************************************************************************\n",
      "\n",
      "\n",
      "Test Sequence: \n",
      "--> comma,separated,sequence,3,4,1,3,2,of,words,words,words\n",
      "Output:\n",
      "--> ['1', '2', '3', '4', 'comma', 'of', 'separated', 'sequence', 'words']\n"
     ]
    }
   ],
   "source": [
    "def Advanced_Q3():\n",
    "    printHeader(\"ADVANCED QUESTION 3\")\n",
    "    sequence = \"comma,separated,sequence,3,4,1,3,2,of,words,words,words\"\n",
    "    print(\"Test Sequence:\",'\\n-->',sequence)\n",
    "    list1 = sequence.split(',')\n",
    "\n",
    "    list2=[]    \n",
    "    list2=list(dict.fromkeys(list1)) #Remove duplicates new list\n",
    "    list2.sort() #Sort alphanumerically\n",
    "    print(\"Output:\")\n",
    "    print('-->',list2)\n",
    "\n",
    "\n",
    "Advanced_Q3()"
   ]
  },
  {
   "cell_type": "code",
   "execution_count": null,
   "metadata": {},
   "outputs": [],
   "source": [
    "\n",
    "\n",
    "\n",
    "\n",
    "\n",
    "\n",
    "\n",
    "\n"
   ]
  },
  {
   "cell_type": "code",
   "execution_count": null,
   "metadata": {},
   "outputs": [],
   "source": []
  },
  {
   "cell_type": "code",
   "execution_count": null,
   "metadata": {},
   "outputs": [],
   "source": []
  }
 ],
 "metadata": {
  "kernelspec": {
   "display_name": "Python 3",
   "language": "python",
   "name": "python3"
  },
  "language_info": {
   "codemirror_mode": {
    "name": "ipython",
    "version": 3
   },
   "file_extension": ".py",
   "mimetype": "text/x-python",
   "name": "python",
   "nbconvert_exporter": "python",
   "pygments_lexer": "ipython3",
   "version": "3.7.3"
  }
 },
 "nbformat": 4,
 "nbformat_minor": 2
}
