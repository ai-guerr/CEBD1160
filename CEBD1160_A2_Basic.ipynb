{
 "cells": [
  {
   "cell_type": "code",
   "execution_count": 123,
   "metadata": {},
   "outputs": [],
   "source": [
    "def Basic_Q1(): \n",
    "    print('\\n',\"BASIC QUESTION 1:\")\n",
    "    print(\"Type of 1:\", '\\t\\t\\t',   type(1),'\\n'\n",
    "          \"Type of 3.14:\", '\\t\\t\\t',   type(3.14),'\\n'\n",
    "          \"Type of \\\"Big Data!\\\":\",'\\t\\t',  type(\"Big Data!\"),'\\n'\n",
    "          \"Type of \\'Big Data!\\':\", '\\t\\t', type('Big Data!'),'\\n'\n",
    "          \"Type of True:\", '\\t\\t\\t', type(True),'\\n'\n",
    "          \"Type of False:\", '\\t\\t\\t',  type(False),'\\n'\n",
    "          \"Type of [1,2,\\\"intruder\\\",3]:\", '\\t', type([1,2,\"intruder\",3]))"
   ]
  },
  {
   "cell_type": "code",
   "execution_count": 246,
   "metadata": {
    "scrolled": true
   },
   "outputs": [
    {
     "name": "stdout",
     "output_type": "stream",
     "text": [
      "BASIC QUESTION 1:\n",
      "Type of 1: \t\t\t <class 'int'> \n",
      "Type of 3.14: \t\t\t <class 'float'> \n",
      "Type of \"Big Data!\": \t\t <class 'str'> \n",
      "Type of 'Big Data!': \t\t <class 'str'> \n",
      "Type of True: \t\t\t <class 'bool'> \n",
      "Type of False: \t\t\t <class 'bool'> \n",
      "Type of [1,2,\"intruder\",3]: \t <class 'list'>\n"
     ]
    }
   ],
   "source": [
    "Basic_Q1()"
   ]
  },
  {
   "cell_type": "code",
   "execution_count": 130,
   "metadata": {},
   "outputs": [],
   "source": [
    "def Basic_Q2():\n",
    "    print('\\n',\"BASIC QUESTION 2:\")\n",
    "    def integerPrinter(count):\n",
    "        num=1\n",
    "        while num !=(count+1):\n",
    "            if ((num % 3 == 0) and (num % 5 == 0)):\n",
    "                print('FizzBuzz')\n",
    "            elif num % 3 == 0:\n",
    "                print('Fizz')\n",
    "            elif num % 5 == 0:\n",
    "                print('Buzz')\n",
    "            else:\n",
    "                print(num)\n",
    "            num = num+1;\n",
    "        \n",
    "    integerPrinter(100)"
   ]
  },
  {
   "cell_type": "code",
   "execution_count": 245,
   "metadata": {},
   "outputs": [
    {
     "name": "stdout",
     "output_type": "stream",
     "text": [
      "\n",
      " BASIC QUESTION 2:\n",
      "1\n",
      "2\n",
      "Fizz\n",
      "4\n",
      "Buzz\n",
      "Fizz\n",
      "7\n",
      "8\n",
      "Fizz\n",
      "Buzz\n",
      "11\n",
      "Fizz\n",
      "13\n",
      "14\n",
      "FizzBuzz\n",
      "16\n",
      "17\n",
      "Fizz\n",
      "19\n",
      "Buzz\n",
      "Fizz\n",
      "22\n",
      "23\n",
      "Fizz\n",
      "Buzz\n",
      "26\n",
      "Fizz\n",
      "28\n",
      "29\n",
      "FizzBuzz\n",
      "31\n",
      "32\n",
      "Fizz\n",
      "34\n",
      "Buzz\n",
      "Fizz\n",
      "37\n",
      "38\n",
      "Fizz\n",
      "Buzz\n",
      "41\n",
      "Fizz\n",
      "43\n",
      "44\n",
      "FizzBuzz\n",
      "46\n",
      "47\n",
      "Fizz\n",
      "49\n",
      "Buzz\n",
      "Fizz\n",
      "52\n",
      "53\n",
      "Fizz\n",
      "Buzz\n",
      "56\n",
      "Fizz\n",
      "58\n",
      "59\n",
      "FizzBuzz\n",
      "61\n",
      "62\n",
      "Fizz\n",
      "64\n",
      "Buzz\n",
      "Fizz\n",
      "67\n",
      "68\n",
      "Fizz\n",
      "Buzz\n",
      "71\n",
      "Fizz\n",
      "73\n",
      "74\n",
      "FizzBuzz\n",
      "76\n",
      "77\n",
      "Fizz\n",
      "79\n",
      "Buzz\n",
      "Fizz\n",
      "82\n",
      "83\n",
      "Fizz\n",
      "Buzz\n",
      "86\n",
      "Fizz\n",
      "88\n",
      "89\n",
      "FizzBuzz\n",
      "91\n",
      "92\n",
      "Fizz\n",
      "94\n",
      "Buzz\n",
      "Fizz\n",
      "97\n",
      "98\n",
      "Fizz\n",
      "Buzz\n"
     ]
    }
   ],
   "source": [
    "Basic_Q2()"
   ]
  },
  {
   "cell_type": "code",
   "execution_count": 209,
   "metadata": {},
   "outputs": [],
   "source": [
    "def Basic_Q3():\n",
    "    print('\\n',\"BASIC QUESTION 3:\")\n",
    "    print('\\n',\"Part 1\")\n",
    "    list = [6,7,8,39,12,0]\n",
    "    print(\"List of integers:\", list)\n",
    "    print(\"Max value:\", max(list))\n",
    "    print(\"Min value:\", min(list))\n",
    "    print('\\n',\"Part 2\")\n",
    "    \n",
    "    def sumMultiples():\n",
    "        num=1\n",
    "        maxNum=1000\n",
    "        sum=0\n",
    "        \n",
    "        while num !=(maxNum):\n",
    "            if (((num % 3 == 0) and (num % 5 == 0)) or (num % 3 == 0) or (num % 5 == 0)):\n",
    "                sum=sum+num\n",
    "            num = num+1;\n",
    "        print(\"Sum of multiples of 3 or 5 for natural numbers below\", maxNum, \":\",sum)\n",
    "                \n",
    "    sumMultiples()\n",
    "                \n",
    "            \n",
    "        \n",
    "    "
   ]
  },
  {
   "cell_type": "code",
   "execution_count": 210,
   "metadata": {},
   "outputs": [
    {
     "name": "stdout",
     "output_type": "stream",
     "text": [
      "\n",
      " BASIC QUESTION 3:\n",
      "\n",
      " Part 1\n",
      "List of integers: [6, 7, 8, 39, 12, 0]\n",
      "Max value: 39\n",
      "Min value: 0\n",
      "\n",
      " Part 2\n",
      "Sum of multiples of 3 or 5 for natural numbers below 1000 : 233168\n"
     ]
    }
   ],
   "source": [
    "Basic_Q3()"
   ]
  },
  {
   "cell_type": "code",
   "execution_count": 243,
   "metadata": {},
   "outputs": [],
   "source": [
    "def Basic_Q4():\n",
    "    print('\\n',\"BASIC QUESTION 4:\")\n",
    "    vowelList=['a','e','i','o','u','A','E','I','O','U']\n",
    "    testString = 'I am working on my python assignment'\n",
    "    print(\"Original string:\", '\\t', testString)\n",
    "    newString=''\n",
    "    for character in testString:\n",
    "        if character not in vowelList:\n",
    "            newString=newString+character\n",
    "    print(\"New vowel-free string:\", '\\t', newString)\n",
    "    \n",
    "    #print(\"Shortened string:\")"
   ]
  },
  {
   "cell_type": "code",
   "execution_count": 244,
   "metadata": {
    "scrolled": true
   },
   "outputs": [
    {
     "name": "stdout",
     "output_type": "stream",
     "text": [
      "\n",
      " BASIC QUESTION 4:\n",
      "Original string: \t I am working on my python assignment\n",
      "New vowel-free string: \t  m wrkng n my pythn ssgnmnt\n"
     ]
    }
   ],
   "source": [
    "Basic_Q4()"
   ]
  },
  {
   "cell_type": "code",
   "execution_count": null,
   "metadata": {},
   "outputs": [],
   "source": []
  }
 ],
 "metadata": {
  "kernelspec": {
   "display_name": "Python 3",
   "language": "python",
   "name": "python3"
  },
  "language_info": {
   "codemirror_mode": {
    "name": "ipython",
    "version": 3
   },
   "file_extension": ".py",
   "mimetype": "text/x-python",
   "name": "python",
   "nbconvert_exporter": "python",
   "pygments_lexer": "ipython3",
   "version": "3.7.3"
  }
 },
 "nbformat": 4,
 "nbformat_minor": 2
}
